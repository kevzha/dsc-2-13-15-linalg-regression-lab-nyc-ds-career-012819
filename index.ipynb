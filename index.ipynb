{
 "cells": [
  {
   "cell_type": "markdown",
   "metadata": {},
   "source": [
    "# Regression with Linear Algebra - Lab\n",
    "\n",
    "## Introduction\n",
    "\n",
    "In this lab, we shall apply regression analysis using simple matrix manipulations to fit a model to given data, and then predict new values for previously unseen data. We shall follow the approach highlighted in previous lesson where we used numpy to build the appropriate matrices and vectors and solve for the $\\beta$ (unknown variables) vector. The beta vector will be used with test data to make new predictions. We shall also evaluate how good our model fit was. \n",
    "\n",
    "In order to make this experiment interesting. We shall use NumPy at every single stage of this experiment i.e. loading data, creating matrices, performing test train split, model fitting and evaluations.  \n",
    "\n",
    "## Objectives\n",
    "\n",
    "You will be able to:\n",
    "\n",
    "* Use linear algebra to apply simple regression modeling in Python and NumPy only\n",
    "* Apply train/test split using permutations in NumPy\n",
    "* Use matrix algebra with inverses and dot products to calculate the beta\n",
    "* Make predictions from the fitted model using previously unseen input features \n",
    "* Evaluate the fitted model by calculating the error between real and predicted values\n"
   ]
  },
  {
   "cell_type": "markdown",
   "metadata": {},
   "source": [
    "First let's import necessary libraries "
   ]
  },
  {
   "cell_type": "code",
   "execution_count": 1,
   "metadata": {},
   "outputs": [],
   "source": [
    "import csv # for reading csv file\n",
    "import numpy as np"
   ]
  },
  {
   "cell_type": "markdown",
   "metadata": {},
   "source": [
    "## Dataset \n",
    "\n",
    "The dataset we will use for this experiment is \"**Sales Prices in the City of Windsor, Canada**\", something very similar to the Boston Housing dataset. This dataset contains a number of input (independent) variables, including area, number of bedrooms/bathrooms, facilities(AC/garage) etc. and an output (dependent) variable, **price**. We shall formulate a linear algebra problem to find linear mappings from input to out features using the equation provided in the previous lesson. \n",
    "\n",
    "This will allow us to find a relationship between house features and house price for the given data, allowing us to find unknown prices for houses, given the input features.  \n",
    "\n",
    "A description of dataset and included features is available at [THIS LINK](https://rdrr.io/cran/Ecdat/man/Housing.html)\n",
    "\n",
    "In your repo, the dataset is available as `windsor_housing.csv` containing following variables:\n",
    "\n",
    "there are 11 input features (first 11 columns):\n",
    "\n",
    "\tlotsize\tbedrooms\tbathrms\tstories\tdriveway\trecroom\tfullbase\tgashw\tairco\tgaragepl\tprefarea\n",
    "\n",
    "and 1 output feature i.e. **price** (12th column). \n",
    "\n",
    "The focus of this lab is not really answering a preset analytical question, but to learn how we can perform a regression experiment, similar to one we performed in statsmodels, using mathematical manipulations. So we we wont be using any Pandas or statsmodels goodness here. The key objectives here are to a) understand regression with matrix algebra, and b) Mastery in NumPy scientific computation. "
   ]
  },
  {
   "cell_type": "markdown",
   "metadata": {},
   "source": [
    "## Stage 1: Prepare Data for Modeling \n",
    "\n",
    "Let's give you a head start by importing the dataset. We shall perform following steps to get the data ready for analysis:\n",
    "\n",
    "* Initialize an empty list `data` for loading data\n",
    "* Read the csv file containing complete (raw) `windsor_housing.csv`. [Use `csv.reader()` for loading data.](https://docs.python.org/3/library/csv.html). Store this in `data` one row at a time.\n",
    "\n",
    "* Drop the first row of csv file as it contains the names of variables (header) which won't be used during analysis (keeping this will cause errors as it contains text values).\n",
    "\n",
    "* Append a column of all 1s to the data (bias) as the first column\n",
    "\n",
    "* Convert `data` to a numpy array and inspect first few rows \n",
    "\n",
    "NOTE: `read.csv()` would read the csv as a text file, so we must convert the contents to float at some stage. "
   ]
  },
  {
   "cell_type": "code",
   "execution_count": null,
   "metadata": {},
   "outputs": [],
   "source": []
  },
  {
   "cell_type": "code",
   "execution_count": 8,
   "metadata": {},
   "outputs": [
    {
     "data": {
      "text/plain": [
       "array([[1.00e+00, 5.85e+03, 3.00e+00, ..., 1.00e+00, 0.00e+00, 4.20e+04],\n",
       "       [1.00e+00, 4.00e+03, 2.00e+00, ..., 0.00e+00, 0.00e+00, 3.85e+04],\n",
       "       [1.00e+00, 3.06e+03, 3.00e+00, ..., 0.00e+00, 0.00e+00, 4.95e+04],\n",
       "       ...,\n",
       "       [1.00e+00, 6.00e+03, 3.00e+00, ..., 1.00e+00, 0.00e+00, 1.03e+05],\n",
       "       [1.00e+00, 6.00e+03, 3.00e+00, ..., 1.00e+00, 0.00e+00, 1.05e+05],\n",
       "       [1.00e+00, 6.00e+03, 3.00e+00, ..., 1.00e+00, 0.00e+00, 1.05e+05]])"
      ]
     },
     "execution_count": 8,
     "metadata": {},
     "output_type": "execute_result"
    }
   ],
   "source": [
    "# Your Code here\n",
    "data = []\n",
    "\n",
    "with open ('windsor_housing.csv') as f:\n",
    "    text = csv.reader(f)\n",
    "    next(text)\n",
    "    for i in text:\n",
    "        add_one = [1.0]\n",
    "        for j in i:\n",
    "            add_one.append(float(j))\n",
    "        data.append(add_one)\n",
    "\n",
    "data = np.array(data)\n",
    "data\n",
    "# First 5 rows of raw data \n",
    "\n",
    "# array([[1.00e+00, 5.85e+03, 3.00e+00, 1.00e+00, 2.00e+00, 1.00e+00,\n",
    "#         0.00e+00, 1.00e+00, 0.00e+00, 0.00e+00, 1.00e+00, 0.00e+00,\n",
    "#         4.20e+04],\n",
    "#        [1.00e+00, 4.00e+03, 2.00e+00, 1.00e+00, 1.00e+00, 1.00e+00,\n",
    "#         0.00e+00, 0.00e+00, 0.00e+00, 0.00e+00, 0.00e+00, 0.00e+00,\n",
    "#         3.85e+04],\n",
    "#        [1.00e+00, 3.06e+03, 3.00e+00, 1.00e+00, 1.00e+00, 1.00e+00,\n",
    "#         0.00e+00, 0.00e+00, 0.00e+00, 0.00e+00, 0.00e+00, 0.00e+00,\n",
    "#         4.95e+04],\n",
    "#        [1.00e+00, 6.65e+03, 3.00e+00, 1.00e+00, 2.00e+00, 1.00e+00,\n",
    "#         1.00e+00, 0.00e+00, 0.00e+00, 0.00e+00, 0.00e+00, 0.00e+00,\n",
    "#         6.05e+04],\n",
    "#        [1.00e+00, 6.36e+03, 2.00e+00, 1.00e+00, 1.00e+00, 1.00e+00,\n",
    "#         0.00e+00, 0.00e+00, 0.00e+00, 0.00e+00, 0.00e+00, 0.00e+00,\n",
    "#         6.10e+04]])"
   ]
  },
  {
   "cell_type": "markdown",
   "metadata": {},
   "source": [
    "## Step 2: Perform a 80/20 test train Split\n",
    "\n",
    "Explore NumPy's official documentation to manually split a dataset using `numpy.random.shuffle()`,  `numpy.random.permutations()` or using simple resampling method. \n",
    "* Perform a **RANDOM** 80/20 split on data using a method of your choice , in NumPy using one of the methods above. \n",
    "* Create x_test, y_test, x_train and y_train arrays from the split data.\n",
    "* Inspect the contents to see if the split performed as expected. "
   ]
  },
  {
   "cell_type": "code",
   "execution_count": 18,
   "metadata": {},
   "outputs": [
    {
     "data": {
      "text/plain": [
       "(546, 13)"
      ]
     },
     "execution_count": 18,
     "metadata": {},
     "output_type": "execute_result"
    }
   ],
   "source": [
    "data.shape"
   ]
  },
  {
   "cell_type": "code",
   "execution_count": 19,
   "metadata": {},
   "outputs": [],
   "source": [
    "train = np.random.randint(data.shape[0], size=round(546*.8))"
   ]
  },
  {
   "cell_type": "code",
   "execution_count": 33,
   "metadata": {},
   "outputs": [
    {
     "name": "stdout",
     "output_type": "stream",
     "text": [
      "(437, 13) (109, 13)\n",
      "(437, 12) (437,) (109, 12) (109,)\n"
     ]
    }
   ],
   "source": [
    "# Your code here \n",
    "# Split results\n",
    "train_split = np.random.randint(data.shape[0], size=round(546*.8))\n",
    "test_split = np.random.randint(data.shape[0], size = round(546*.2))\n",
    "train = data[train_split,:]\n",
    "test = data[test_split,:]\n",
    "\n",
    "X_train = train[:,:-1]\n",
    "y_train = train[:,-1]\n",
    "\n",
    "X_test = test[:,:-1]\n",
    "y_test = test[:,-1]\n",
    "\n",
    "print(train.shape, test.shape)\n",
    "print(X_train.shape, y_train.shape, X_test.shape, y_test.shape)\n",
    "# Raw data Shape:  (546, 13)\n",
    "# Train/Test Split: (437, 13) (109, 13)\n",
    "# x_train, y_train, x_test, y_test: (437, 12) (437,) (109, 12) (109,)"
   ]
  },
  {
   "cell_type": "code",
   "execution_count": 31,
   "metadata": {},
   "outputs": [
    {
     "data": {
      "text/plain": [
       "(109,)"
      ]
     },
     "execution_count": 31,
     "metadata": {},
     "output_type": "execute_result"
    }
   ],
   "source": []
  },
  {
   "cell_type": "markdown",
   "metadata": {},
   "source": [
    "## Step 3: Calculate the `beta` \n",
    "\n",
    "With our X and y in place, We can now compute our beta values with x_train and y_train as:\n",
    "#### $\\beta$ = (x_train<sup>T</sup> . x_train)<sup>-1</sup> . x_train<sup>T</sup> . y_train \n",
    "\n",
    "* Using numpy operations (transpose, inverse) that we saw earlier, compute the above equation in steps.\n",
    "* Print your beta values"
   ]
  },
  {
   "cell_type": "code",
   "execution_count": 48,
   "metadata": {},
   "outputs": [
    {
     "data": {
      "text/plain": [
       "array([-2.60790425e+03,  3.38488307e+00,  1.88617003e+03,  1.64113955e+04,\n",
       "        4.77758782e+03,  5.55684160e+03,  7.60914987e+03,  3.06064600e+03,\n",
       "        1.57820530e+04,  1.33030131e+04,  5.37853980e+03,  8.01872985e+03])"
      ]
     },
     "execution_count": 48,
     "metadata": {},
     "output_type": "execute_result"
    }
   ],
   "source": [
    "Xt = np.transpose(X_train)\n",
    "left = np.dot(Xt,X_train)\n",
    "X_train_inv = np.linalg.inv(left)\n",
    "beta = np.dot(np.dot(X_train_inv,Xt),y_train)\n",
    "\n",
    "beta"
   ]
  },
  {
   "cell_type": "code",
   "execution_count": 5,
   "metadata": {},
   "outputs": [
    {
     "name": "stdout",
     "output_type": "stream",
     "text": [
      "[7.13503312e+03 3.14678249e+00 3.28225971e+02 1.28839251e+04\n",
      " 6.68332755e+03 3.44682885e+03 3.19440776e+03 5.07824499e+03\n",
      " 1.32822228e+04 1.10098716e+04 2.88253206e+03 9.16916600e+03]\n"
     ]
    }
   ],
   "source": [
    "# Your code here \n",
    "\n",
    "\n",
    "\n",
    "# Calculated beta values\n",
    "\n",
    "# [-3.07118956e+03  2.13543921e+00  4.04283395e+03  1.33559881e+04\n",
    "#   5.75279185e+03  7.82810082e+03  3.73584043e+03  6.51098935e+03\n",
    "#   1.28802060e+04  1.09853850e+04  6.14947126e+03  1.05813305e+04]"
   ]
  },
  {
   "cell_type": "markdown",
   "metadata": {},
   "source": [
    "## Step 4: Make Predictions\n",
    "Great , we now have a set of coefficients that describe the linear mappings between X and y. We can now use the calculated beta values  with the test datasets that we left out to calculate y predictions. \n",
    "For this we need to perform the following tasks:"
   ]
  },
  {
   "cell_type": "markdown",
   "metadata": {},
   "source": [
    "Now we shall all features in each row in turn and multiply it with the beta computed above. The result will give a prediction for each row which we can append to a new array of predictions.\n",
    "\n",
    "#### $\\hat{y}$ = x.$\\beta$ = $\\beta$<sub>0</sub> + $\\beta$<sub>1</sub> . x<sub>1</sub> + $\\beta$<sub>2</sub> . x<sub>2</sub> + .. + $\\beta$<sub>m</sub> . x<sub>m</sub>\n",
    "\n",
    "\n",
    "* Create new empty list (y_pred) for saving predictions.\n",
    "* For each row of x_test, take the dot product of the row with beta to calculate the prediction for that row.\n",
    "* Append the predictions to y_pred.\n",
    "* Print the new set of predictions."
   ]
  },
  {
   "cell_type": "code",
   "execution_count": 53,
   "metadata": {},
   "outputs": [
    {
     "data": {
      "text/plain": [
       "[101417.61106450227,\n",
       " 110268.01969342164,\n",
       " 49368.96108947422,\n",
       " 66457.65296385644,\n",
       " 50927.46562697504,\n",
       " 56335.392448493425,\n",
       " 85720.9706893936,\n",
       " 41421.25563639865,\n",
       " 92674.80736942556,\n",
       " 68830.07279006904,\n",
       " 81720.48780577374,\n",
       " 81582.26436217925,\n",
       " 66367.0344749337,\n",
       " 32643.46367197751,\n",
       " 69579.03484454702,\n",
       " 56298.11932994326,\n",
       " 68010.31618063155,\n",
       " 60207.11883416547,\n",
       " 99416.646146509,\n",
       " 72506.42185091498,\n",
       " 36668.05023983735,\n",
       " 40154.172967476065,\n",
       " 76649.5752984316,\n",
       " 81379.17137785876,\n",
       " 91641.16661171595,\n",
       " 70256.01145894868,\n",
       " 82264.49092439633,\n",
       " 96918.17585196522,\n",
       " 40095.83979654838,\n",
       " 51232.54598223853,\n",
       " 40328.319805724095,\n",
       " 59315.10833100001,\n",
       " 46175.109866315885,\n",
       " 59297.090660301146,\n",
       " 69080.41516747492,\n",
       " 49438.117075291375,\n",
       " 60969.23923041922,\n",
       " 74695.4289551624,\n",
       " 75868.6490141919,\n",
       " 79328.09425904692,\n",
       " 57018.29332983111,\n",
       " 51741.315961074564,\n",
       " 91883.46839806937,\n",
       " 83028.50552021326,\n",
       " 48297.046264357385,\n",
       " 111255.85080484321,\n",
       " 59297.090660301146,\n",
       " 53115.60195732165,\n",
       " 91749.94015668544,\n",
       " 84195.46137133239,\n",
       " 114393.94367031766,\n",
       " 49312.511185959884,\n",
       " 53259.610658830716,\n",
       " 72697.63442987067,\n",
       " 88005.49156247839,\n",
       " 69896.41893288102,\n",
       " 69896.41893288102,\n",
       " 52508.838919212474,\n",
       " 66367.0344749337,\n",
       " 52487.84231941186,\n",
       " 69579.03484454702,\n",
       " 43200.56773228357,\n",
       " 41585.18834823204,\n",
       " 111267.3531615168,\n",
       " 42828.23059436264,\n",
       " 52621.3668209012,\n",
       " 70205.06733235435,\n",
       " 89811.67222659523,\n",
       " 48061.27989612807,\n",
       " 75909.76903259548,\n",
       " 70205.06733235435,\n",
       " 53158.54445021128,\n",
       " 46357.873479763795,\n",
       " 81379.17137785876,\n",
       " 33988.052410268356,\n",
       " 76649.5752984316,\n",
       " 90850.30760968375,\n",
       " 74932.05278296777,\n",
       " 81379.17137785876,\n",
       " 60009.45023954446,\n",
       " 66511.85049776665,\n",
       " 70205.06733235435,\n",
       " 96039.0712678391,\n",
       " 42659.29327729209,\n",
       " 52437.85549214069,\n",
       " 42570.960506510775,\n",
       " 114843.82686117204,\n",
       " 76374.919013922,\n",
       " 63635.51228740082,\n",
       " 45068.193624570544,\n",
       " 116950.80007719043,\n",
       " 65417.71756501281,\n",
       " 68830.07279006904,\n",
       " 48219.559169368375,\n",
       " 64210.418745965064,\n",
       " 90584.00144034032,\n",
       " 68898.19259139641,\n",
       " 72506.42185091498,\n",
       " 51273.36812988285,\n",
       " 49039.34530235736,\n",
       " 47775.06256414243,\n",
       " 58420.71116122744,\n",
       " 110968.52600467653,\n",
       " 96918.17585196522,\n",
       " 47775.06256414243,\n",
       " 53432.71997904395,\n",
       " 105156.55320351802,\n",
       " 75181.28679912545,\n",
       " 44728.66779933492]"
      ]
     },
     "execution_count": 53,
     "metadata": {},
     "output_type": "execute_result"
    }
   ],
   "source": [
    "# Your code here \n",
    "y_pred = []\n",
    "\n",
    "for i in X_test:\n",
    "    dot = i.dot(beta)\n",
    "    y_pred.append(dot)\n",
    "    \n",
    "y_pred"
   ]
  },
  {
   "cell_type": "markdown",
   "metadata": {},
   "source": [
    "## Step 5: Evaluate Model \n",
    "\n",
    "### Visualize Actual vs. Predicted\n",
    "This is exciting, so now our model can use the beta value to predict the price of houses given the input features. Let's plot these predictions against the actual values in y_test to see how much our model deviates. "
   ]
  },
  {
   "cell_type": "code",
   "execution_count": 60,
   "metadata": {},
   "outputs": [
    {
     "data": {
      "image/png": "[encoded data removed]",
      "text/plain": [
       "<Figure size 432x288 with 1 Axes>"
      ]
     },
     "metadata": {
      "needs_background": "light"
     },
     "output_type": "display_data"
    },
    {
     "name": "stderr",
     "output_type": "stream",
     "text": [
      "No handles with labels found to put in legend.\n"
     ]
    },
    {
     "data": {
      "text/plain": [
       "<matplotlib.legend.Legend at 0x7efff928ad68>"
      ]
     },
     "execution_count": 60,
     "metadata": {},
     "output_type": "execute_result"
    },
    {
     "data": {
      "image/png": "[encoded data removed]",
      "text/plain": [
       "<Figure size 432x288 with 1 Axes>"
      ]
     },
     "metadata": {
      "needs_background": "light"
     },
     "output_type": "display_data"
    }
   ],
   "source": [
    "import matplotlib.pyplot as plt\n",
    "plt.plot(y_pred, label = 'Predictions')\n",
    "plt.plot(y_test, label = 'Actual')\n",
    "plt.show()\n"
   ]
  },
  {
   "cell_type": "code",
   "execution_count": 5,
   "metadata": {},
   "outputs": [],
   "source": [
    "# Plot predicted and actual values as line plots\n"
   ]
  },
  {
   "cell_type": "markdown",
   "metadata": {},
   "source": [
    "![](diff.png)"
   ]
  },
  {
   "cell_type": "markdown",
   "metadata": {},
   "source": [
    "This doesn't look so bad, does it ? Our model, although isn't perfect at this stage, is making a good attempt to predict house prices although a few prediction seem a bit out. There could a number of reasons for this. Let's try to dig a bit deeper to check model's predictive abilities by comparing these prediction with actual values of y_test individually. That will help us calculate the RMSE value (Root Mean Squared Error) for our model. \n",
    "### Root Mean Squared Error\n",
    "Here is the formula for this again. \n",
    "\n",
    "![](rmse.jpg)\n"
   ]
  },
  {
   "cell_type": "markdown",
   "metadata": {},
   "source": [
    "* Initialize an empty array `err`.\n",
    "* for each row in y_test and y_pred, take the squared difference and append error for each row in err array. \n",
    "* Calculate RMSE from `err` using the formula shown above. "
   ]
  },
  {
   "cell_type": "code",
   "execution_count": 7,
   "metadata": {},
   "outputs": [],
   "source": [
    "# Calculate RMSE\n",
    "\n",
    "# Due to random split, your answers may vary \n",
    "\n",
    "# RMSE = 16401.913562758735"
   ]
  },
  {
   "cell_type": "markdown",
   "metadata": {},
   "source": [
    "### Normalized Root Mean Squared Error\n",
    "The above error is clearly in terms of the dependant variable i.e. the final house price. We can also use a normlized mean squared error in case of multiple regression which can be calculated from RMSE using following formula:\n",
    "\n",
    "* Calculate normalized Root Mean Squared Error"
   ]
  },
  {
   "cell_type": "markdown",
   "metadata": {},
   "source": [
    "<img src=\"nrmse.png\" width=300>"
   ]
  },
  {
   "cell_type": "code",
   "execution_count": 11,
   "metadata": {},
   "outputs": [
    {
     "data": {
      "text/plain": [
       "0.09940553674399233"
      ]
     },
     "execution_count": 11,
     "metadata": {},
     "output_type": "execute_result"
    }
   ],
   "source": [
    "# Calculate NRMSE\n",
    "\n",
    "# Due to random split, your answers may vary \n",
    "\n",
    "# 0.09940553674399233"
   ]
  },
  {
   "cell_type": "markdown",
   "metadata": {},
   "source": [
    "SO there it is. A complete multiple regression analysis using nothing but numpy. Having good programming skills in numpy would allow to dig deeper into analytical algorithms in machine learning and deep learning. Using matrix multiplication techniques we saw here, we can easily build a whole neural network from scratch. "
   ]
  },
  {
   "cell_type": "markdown",
   "metadata": {},
   "source": [
    "## Level up - Optional \n",
    "\n",
    "* Calculated the R_squared and adjusted R_squared for above experiment. \n",
    "* Plot the residuals (similar to statsmodels) and comment on the variance and heteroscedascticity. \n",
    "* Run the experiment in statsmodels and compare the performance of both approaches in terms of computational cost."
   ]
  },
  {
   "cell_type": "markdown",
   "metadata": {},
   "source": [
    "## Summary\n",
    "\n",
    "So there we have it. A predictive model for predicting house prices in a given dataset. Remember this is a very naive implementation of regression modeling. The purpose here was to get an introduction to the applications of linear algebra into machine learning and predictive analysis. We still have a number of shortcomings in our modeling approach and we can further apply a number of data modeling techniques to improve this model. "
   ]
  }
 ],
 "metadata": {
  "kernelspec": {
   "display_name": "Python 3",
   "language": "python",
   "name": "python3"
  },
  "language_info": {
   "codemirror_mode": {
    "name": "ipython",
    "version": 3
   },
   "file_extension": ".py",
   "mimetype": "text/x-python",
   "name": "python",
   "nbconvert_exporter": "python",
   "pygments_lexer": "ipython3",
   "version": "3.6.6"
  }
 },
 "nbformat": 4,
 "nbformat_minor": 2
}
